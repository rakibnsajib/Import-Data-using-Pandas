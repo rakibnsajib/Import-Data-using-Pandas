{
 "cells": [
  {
   "cell_type": "markdown",
   "metadata": {},
   "source": [
    "# Importing Data From Google Spreadsheets Using Pandas\n",
    "![spreadsheet cover](spreadsheet-cover.png)\n",
    "\n",
    "<br>\n",
    "To access spreadsheets via Google Sheets API you need to authenticate and authorize your application.\n",
    "\n",
    "If you plan to access spreadsheets on behalf of a bot account use Service Account.\n",
    "\n",
    "### Enable API Access for a Project\n",
    "Go to to [Google Developers Console](https://console.developers.google.com/) and create a new project (or select the one you already have).\n",
    "\n",
    "- In the box labeled “Search for APIs and Services”, search for “Google Drive API” and enable it.\n",
    "\n",
    "- In the box labeled “Search for APIs and Services”, search for “Google Sheets API” and enable it.\n",
    "\n",
    "### Creating and Configuring credentials.json File\n",
    "\n",
    "- Go to \"APIs & Services > Credentials.\"\n",
    "- Choose \"+ Create credentials > Service account\"\n",
    "- Fill out the form with the necessary details.\n",
    "- Click \"Create\" and then \"Done.\" A service account will be created and you will see that account in your current screen\n",
    "- Press \"Manage service accounts\" above Service Accounts.\n",
    "- Press on ⋮ under \"Actions\" column and select “Manage keys” and then click on “ADD KEY > Create new key”.\n",
    "- Select JSON key type and press \"Create.\"\n",
    "- Download the JSON file with credentials.\n",
    "- Additionally, Copy the service account email to your clipboard\n",
    "\n",
    "### Configuring Google Sheets Access\n",
    "- Open your Google SpreadSheet in a web browser.\n",
    "- In the top right, click on the \"Share\" button.\n",
    "- In the sharing dialog, paste the service account email address that you copied earlier in the \"Invite people\" field.\n",
    "- Assign the appropriate permissions (e.g., \"Viewer,\" \"Editor,\" or \"Owner\") to the service account, depending on the level of access needed.\n",
    "- Click \"Send\" or \"Save\" to apply the sharing settings.\n",
    "\n",
    "<br>\n",
    "Now, write the python codes given below to import data from Google Spreadsheet"
   ]
  },
  {
   "cell_type": "markdown",
   "metadata": {},
   "source": [
    "## 1. Installing gspread"
   ]
  },
  {
   "cell_type": "code",
   "execution_count": null,
   "metadata": {},
   "outputs": [],
   "source": [
    "!pip install gspread"
   ]
  },
  {
   "cell_type": "markdown",
   "metadata": {},
   "source": [
    "## 2. Importing Pandas and Gspread"
   ]
  },
  {
   "cell_type": "code",
   "execution_count": null,
   "metadata": {},
   "outputs": [],
   "source": [
    "import pandas as pd\n",
    "import gspread"
   ]
  },
  {
   "cell_type": "markdown",
   "metadata": {},
   "source": [
    "## 3. Import Service Account Credentials"
   ]
  },
  {
   "cell_type": "code",
   "execution_count": null,
   "metadata": {},
   "outputs": [],
   "source": [
    "gc = gspread.service_account(filename=\"credentials.json\") #path of credentials.json file"
   ]
  },
  {
   "cell_type": "code",
   "execution_count": null,
   "metadata": {},
   "outputs": [],
   "source": [
    "gc"
   ]
  },
  {
   "cell_type": "markdown",
   "metadata": {},
   "source": [
    "## 4. Read Spreadsheet Data"
   ]
  },
  {
   "cell_type": "code",
   "execution_count": null,
   "metadata": {},
   "outputs": [],
   "source": [
    "url = \"your_spreadsheet_url_paste_here\""
   ]
  },
  {
   "cell_type": "code",
   "execution_count": null,
   "metadata": {},
   "outputs": [],
   "source": [
    "sheet = gc.open_by_url(url)"
   ]
  },
  {
   "cell_type": "code",
   "execution_count": null,
   "metadata": {},
   "outputs": [],
   "source": [
    "sheet"
   ]
  },
  {
   "cell_type": "markdown",
   "metadata": {},
   "source": [
    "## 5. Select your worksheet"
   ]
  },
  {
   "cell_type": "code",
   "execution_count": null,
   "metadata": {},
   "outputs": [],
   "source": [
    "ws = sheet.worksheet(\"sheet-1\")"
   ]
  },
  {
   "cell_type": "code",
   "execution_count": null,
   "metadata": {},
   "outputs": [],
   "source": [
    "ws"
   ]
  },
  {
   "cell_type": "code",
   "execution_count": null,
   "metadata": {},
   "outputs": [],
   "source": [
    "df = pd.DataFrame(ws.get_all_records())"
   ]
  },
  {
   "cell_type": "code",
   "execution_count": null,
   "metadata": {},
   "outputs": [],
   "source": [
    "df"
   ]
  },
  {
   "cell_type": "code",
   "execution_count": null,
   "metadata": {},
   "outputs": [],
   "source": [
    "ws2 = sheet.worksheet(\"sheet-2\")\n",
    "df2 = pd.DataFrame(ws2.get_all_records())"
   ]
  },
  {
   "cell_type": "code",
   "execution_count": null,
   "metadata": {},
   "outputs": [],
   "source": [
    "df2"
   ]
  }
 ],
 "metadata": {
  "kernelspec": {
   "display_name": "Python 3 (ipykernel)",
   "language": "python",
   "name": "python3"
  },
  "language_info": {
   "codemirror_mode": {
    "name": "ipython",
    "version": 3
   },
   "file_extension": ".py",
   "mimetype": "text/x-python",
   "name": "python",
   "nbconvert_exporter": "python",
   "pygments_lexer": "ipython3",
   "version": "3.11.5"
  }
 },
 "nbformat": 4,
 "nbformat_minor": 2
}
